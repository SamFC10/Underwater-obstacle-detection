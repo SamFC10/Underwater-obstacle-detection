{
 "cells": [
  {
   "cell_type": "markdown",
   "metadata": {},
   "source": [
    "# Underwater obstacle detection Pipeline"
   ]
  },
  {
   "cell_type": "code",
   "execution_count": null,
   "metadata": {},
   "outputs": [],
   "source": [
    "#importing the necessary packages\n",
    "import numpy as np\n",
    "import cv2\n",
    "import imutils"
   ]
  },
  {
   "cell_type": "code",
   "execution_count": null,
   "metadata": {},
   "outputs": [],
   "source": [
    "cap = cv2.VideoCapture('/path/to/video/')\n",
    "while(cap.isOpened()):\n",
    "    ret, image = cap.read() #getting our input image\n",
    "    if ret==True:\n",
    "        # resizing input image and making a copy of input image\n",
    "        image = imutils.resize(image, width=1800) \n",
    "        output = image.copy()\n",
    "\n",
    "        # Mask to detect the black line in image\n",
    "        black_low = (0,0,0) #BGR values of black\n",
    "        black_high = (90,80,60)\n",
    "        mask_black = cv2.inRange(image, black_low, black_high)\n",
    "        \n",
    "        # Creating our Region of interest(ROI)\n",
    "        l_left= [300,mask_black.shape[0]]\n",
    "        t_left = [600,mask_black.shape[0]//2.5]\n",
    "        l_right = [1500,mask_black.shape[0]]\n",
    "        t_right = [1200,mask_black.shape[0]//2.5]\n",
    "        vertices = [np.array([l_left,t_left,t_right,l_right],dtype=np.int32)]\n",
    "        roi_mask = np.zeros_like(mask_black)\n",
    "        cv2.fillPoly(roi_mask, vertices, 255)\n",
    "        roi_image = cv2.bitwise_and(mask_black, roi_mask)\n",
    "        \n",
    "        # Shading the identified lane with green in original image\n",
    "        output[roi_image == 255] = np.array([102, 255, 102]) #BGR value of green\n",
    "        \n",
    "        # Mask to detect the yellow obstacle in between\n",
    "        light_yl = (100,90,70)\n",
    "        dark_yl = (120,150,90)\n",
    "        mask_yl = cv2.inRange(image, light_yl, dark_yl)\n",
    "        \n",
    "        # Applying gaussian blur to reduce noise and Canny Edge Detector to detect the obstacle\n",
    "        # Parameter values got through trail and error\n",
    "        gauss = cv2.GaussianBlur(mask_yl,(5,5),0)\n",
    "        edged = cv2.Canny(gauss, 200,400)\n",
    "\n",
    "        # Applying Probablistic Hough Transformation to find and draw the lines detected using Canny Edge detector\n",
    "        min_threshold = 80\n",
    "        lines = cv2.HoughLinesP(edged, cv2.HOUGH_PROBABILISTIC, np.pi/180, min_threshold, np.array([]),\n",
    "                                minLineLength=40, maxLineGap=75)\n",
    "        if lines is not None:\n",
    "            for line in lines:\n",
    "                #Drawing the lines on the original image \n",
    "                x1, y1, x2, y2 = line[0]\n",
    "                pts = np.array([[x1, y1 ], [x2 , y2]], np.int32)\n",
    "                cv2.polylines(output, [pts], True, (0,0,255),5)\n",
    "        \n",
    "        # Displaying the final output\n",
    "        cv2.imshow('Output', output)\n",
    "\n",
    "        \n",
    "        if cv2.waitKey(25) & 0xFF == ord('q'):\n",
    "            break\n",
    "    else:\n",
    "        break\n",
    "        \n",
    "cap.release()\n",
    "cv2.destroyAllWindows()"
   ]
  }
 ],
 "metadata": {
  "kernelspec": {
   "display_name": "Python 3",
   "language": "python",
   "name": "python3"
  },
  "language_info": {
   "codemirror_mode": {
    "name": "ipython",
    "version": 3
   },
   "file_extension": ".py",
   "mimetype": "text/x-python",
   "name": "python",
   "nbconvert_exporter": "python",
   "pygments_lexer": "ipython3",
   "version": "3.6.8"
  }
 },
 "nbformat": 4,
 "nbformat_minor": 2
}
